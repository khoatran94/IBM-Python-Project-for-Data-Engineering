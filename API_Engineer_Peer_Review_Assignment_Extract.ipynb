{
 "cells": [
  {
   "cell_type": "markdown",
   "metadata": {},
   "source": [
    "<p style=\"text-align:center\">\n",
    "    <a href=\"https://skills.network/?utm_medium=Exinfluencer&utm_source=Exinfluencer&utm_content=000026UJ&utm_term=10006555&utm_id=NA-SkillsNetwork-Channel-SkillsNetworkCoursesIBMDeveloperSkillsNetworkPY0221ENSkillsNetwork899-2023-01-01\">\n",
    "    <img src=\"https://cf-courses-data.s3.us.cloud-object-storage.appdomain.cloud/assets/logos/SN_web_lightmode.png\" width=\"200\" alt=\"Skills Network Logo\"  />\n",
    "    </a>\n",
    "</p>\n"
   ]
  },
  {
   "cell_type": "markdown",
   "metadata": {},
   "source": [
    "# Peer Review Assignment - Data Engineer - Extract API Data\n"
   ]
  },
  {
   "cell_type": "markdown",
   "metadata": {},
   "source": [
    "Estimated time needed: **20** minutes\n"
   ]
  },
  {
   "cell_type": "markdown",
   "metadata": {},
   "source": [
    "## Objectives\n",
    "\n",
    "In this part you will:\n",
    "\n",
    "-   Collect exchange rate data using an API\n",
    "-   Store the data as a CSV\n"
   ]
  },
  {
   "cell_type": "markdown",
   "metadata": {},
   "source": [
    "For this lab, we are going to be using Python and several Python libraries. Some of these libraries might be installed in your lab environment or in SN Labs. Others may need to be installed by you. The cells below will install these libraries when executed.\n"
   ]
  },
  {
   "cell_type": "code",
   "execution_count": null,
   "metadata": {},
   "outputs": [],
   "source": [
    "#!mamba install pandas==1.3.3 -y\n",
    "#!mamba install requests==2.26.0 -y"
   ]
  },
  {
   "cell_type": "markdown",
   "metadata": {},
   "source": [
    "## Imports\n",
    "\n",
    "Import any additional libraries you may need here.\n"
   ]
  },
  {
   "cell_type": "code",
   "execution_count": 1,
   "metadata": {
    "tags": []
   },
   "outputs": [],
   "source": [
    "import requests\n",
    "import pandas as pd\\"
   ]
  },
  {
   "cell_type": "markdown",
   "metadata": {},
   "source": [
    "## Extract Data Using an API\n"
   ]
  },
  {
   "cell_type": "markdown",
   "metadata": {},
   "source": [
    "### Call the API\n",
    "\n",
    " <b> Question 1</b> Using the `requests` library call the endpoint given above and save the text, remember the first few characters of the output: \n"
   ]
  },
  {
   "cell_type": "markdown",
   "metadata": {},
   "source": [
    "Using ExchangeRate-API we will extract currency exchange rate data. Use the below steps to get the access key and to get the data. \n",
    "1. Open the url : https://exchangeratesapi.io/ and click on **Get Free API Key**. \n",
    "2. Subscribe for Free plan and Sign-in with the Google Account. \n",
    "3. Once the account is created you will be redirected to https://apilayer.com website.\n",
    "2. Now, click on the **user icon** and click **Account** as shown below:\n",
    "\n",
    "<img src=\"https://cf-courses-data.s3.us.cloud-object-storage.appdomain.cloud/IBMDeveloperSkillsNetwork-PY0221EN-SkillsNetwork/labs/module%206/Final%20Assignment/Images/account.png\">\n",
    "\n",
    "3. Scroll down and you will get the API Key section. Copy the API key and use in the url in Question 1.\n"
   ]
  },
  {
   "cell_type": "code",
   "execution_count": 8,
   "metadata": {
    "tags": []
   },
   "outputs": [
    {
     "data": {
      "text/plain": [
       "'application/json; Charset=UTF-8'"
      ]
     },
     "execution_count": 8,
     "metadata": {},
     "output_type": "execute_result"
    }
   ],
   "source": [
    "# Write your code here\n",
    "url = \"http://api.exchangeratesapi.io/v1/latest?base=EUR&access_key=9546f94869c077faeab10a64b107bd30\"  #Make sure to change ******* to your API key.\n",
    "req = requests.get(url)\n",
    "req.headers['Content-Type']\n"
   ]
  },
  {
   "cell_type": "code",
   "execution_count": 10,
   "metadata": {
    "tags": []
   },
   "outputs": [
    {
     "data": {
      "text/plain": [
       "{'AED': 4.04948,\n",
       " 'AFN': 93.236207,\n",
       " 'ALL': 103.76465,\n",
       " 'AMD': 423.8373,\n",
       " 'ANG': 1.972208,\n",
       " 'AOA': 909.481183,\n",
       " 'ARS': 304.294185,\n",
       " 'AUD': 1.674241,\n",
       " 'AWG': 1.987233,\n",
       " 'AZN': 1.878605,\n",
       " 'BAM': 1.955511,\n",
       " 'BBD': 2.209473,\n",
       " 'BDT': 119.272356,\n",
       " 'BGN': 1.955511,\n",
       " 'BHD': 0.412539,\n",
       " 'BIF': 3099.841428,\n",
       " 'BMD': 1.102487,\n",
       " 'BND': 1.470382,\n",
       " 'BOB': 7.561881,\n",
       " 'BRL': 5.382104,\n",
       " 'BSD': 1.094338,\n",
       " 'BTC': 3.7871958e-05,\n",
       " 'BTN': 90.602597,\n",
       " 'BWP': 14.717823,\n",
       " 'BYN': 2.762091,\n",
       " 'BYR': 21608.743333,\n",
       " 'BZD': 2.205774,\n",
       " 'CAD': 1.475514,\n",
       " 'CDF': 2690.068446,\n",
       " 'CHF': 0.962038,\n",
       " 'CLF': 0.033757,\n",
       " 'CLP': 931.462205,\n",
       " 'CNY': 7.872974,\n",
       " 'COP': 4564.524752,\n",
       " 'CRC': 594.212096,\n",
       " 'CUC': 1.102487,\n",
       " 'CUP': 29.215903,\n",
       " 'CVE': 110.249087,\n",
       " 'CZK': 24.302675,\n",
       " 'DJF': 194.841176,\n",
       " 'DKK': 7.461676,\n",
       " 'DOP': 61.790859,\n",
       " 'DZD': 149.432222,\n",
       " 'EGP': 33.86819,\n",
       " 'ERN': 16.537304,\n",
       " 'ETB': 60.310578,\n",
       " 'EUR': 1,\n",
       " 'FJD': 2.445651,\n",
       " 'FKP': 0.863025,\n",
       " 'GBP': 0.864831,\n",
       " 'GEL': 2.872023,\n",
       " 'GGP': 0.863025,\n",
       " 'GHS': 12.365171,\n",
       " 'GIP': 0.863025,\n",
       " 'GMD': 66.594457,\n",
       " 'GNF': 9411.607703,\n",
       " 'GTQ': 8.603727,\n",
       " 'GYD': 228.946131,\n",
       " 'HKD': 8.605576,\n",
       " 'HNL': 26.911019,\n",
       " 'HRK': 7.412966,\n",
       " 'HTG': 149.367903,\n",
       " 'HUF': 390.280754,\n",
       " 'IDR': 16705.873819,\n",
       " 'ILS': 4.027076,\n",
       " 'IMP': 0.863025,\n",
       " 'INR': 91.157752,\n",
       " 'IQD': 1433.487938,\n",
       " 'IRR': 46648.981366,\n",
       " 'ISK': 145.28615,\n",
       " 'JEP': 0.863025,\n",
       " 'JMD': 169.19497,\n",
       " 'JOD': 0.780675,\n",
       " 'JPY': 156.283075,\n",
       " 'KES': 155.60698,\n",
       " 'KGS': 96.835729,\n",
       " 'KHR': 4525.33055,\n",
       " 'KMF': 495.926215,\n",
       " 'KPW': 992.215014,\n",
       " 'KRW': 1437.687446,\n",
       " 'KWD': 0.339048,\n",
       " 'KYD': 0.911965,\n",
       " 'KZT': 487.427893,\n",
       " 'LAK': 21264.854206,\n",
       " 'LBP': 16425.270144,\n",
       " 'LKR': 351.278034,\n",
       " 'LRD': 205.838467,\n",
       " 'LSL': 20.620664,\n",
       " 'LTL': 3.255358,\n",
       " 'LVL': 0.666884,\n",
       " 'LYD': 5.254223,\n",
       " 'MAD': 10.651924,\n",
       " 'MDL': 19.205159,\n",
       " 'MGA': 4937.26961,\n",
       " 'MKD': 61.610886,\n",
       " 'MMK': 2297.960054,\n",
       " 'MNT': 3814.283922,\n",
       " 'MOP': 8.802398,\n",
       " 'MRO': 393.587635,\n",
       " 'MUR': 49.836535,\n",
       " 'MVR': 16.923591,\n",
       " 'MWK': 1149.529945,\n",
       " 'MXN': 18.828827,\n",
       " 'MYR': 5.021871,\n",
       " 'MZN': 69.732713,\n",
       " 'NAD': 20.620617,\n",
       " 'NGN': 846.103991,\n",
       " 'NIO': 40.034078,\n",
       " 'NOK': 11.243063,\n",
       " 'NPR': 144.964555,\n",
       " 'NZD': 1.827536,\n",
       " 'OMR': 0.4245,\n",
       " 'PAB': 1.094338,\n",
       " 'PEN': 4.037903,\n",
       " 'PGK': 3.976412,\n",
       " 'PHP': 61.230473,\n",
       " 'PKR': 310.176114,\n",
       " 'PLN': 4.446842,\n",
       " 'PYG': 7973.820401,\n",
       " 'QAR': 4.014197,\n",
       " 'RON': 4.953037,\n",
       " 'RSD': 117.272651,\n",
       " 'RUB': 105.700974,\n",
       " 'RWF': 1288.4094,\n",
       " 'SAR': 4.136094,\n",
       " 'SBD': 9.226478,\n",
       " 'SCR': 14.822979,\n",
       " 'SDG': 663.149928,\n",
       " 'SEK': 11.671923,\n",
       " 'SGD': 1.476345,\n",
       " 'SHP': 1.341451,\n",
       " 'SLE': 23.333579,\n",
       " 'SLL': 21774.116742,\n",
       " 'SOS': 627.870332,\n",
       " 'SRD': 42.231905,\n",
       " 'STD': 22819.253016,\n",
       " 'SVC': 9.574584,\n",
       " 'SYP': 14442.680828,\n",
       " 'SZL': 20.477971,\n",
       " 'THB': 38.234653,\n",
       " 'TJS': 11.998825,\n",
       " 'TMT': 3.858704,\n",
       " 'TND': 3.405307,\n",
       " 'TOP': 2.612398,\n",
       " 'TRY': 29.701773,\n",
       " 'TTD': 7.418902,\n",
       " 'TWD': 34.911906,\n",
       " 'TZS': 2741.294469,\n",
       " 'UAH': 40.416621,\n",
       " 'UGX': 3950.415599,\n",
       " 'USD': 1.102487,\n",
       " 'UYU': 41.443869,\n",
       " 'UZS': 12759.112494,\n",
       " 'VEF': 3314591.241913,\n",
       " 'VES': 33.148027,\n",
       " 'VND': 26167.526684,\n",
       " 'VUV': 132.539559,\n",
       " 'WST': 3.015179,\n",
       " 'XAF': 655.859976,\n",
       " 'XAG': 0.046666,\n",
       " 'XAU': 0.000568,\n",
       " 'XCD': 2.979526,\n",
       " 'XDR': 0.814879,\n",
       " 'XOF': 655.859976,\n",
       " 'XPF': 120.336847,\n",
       " 'YER': 276.007997,\n",
       " 'ZAR': 20.361787,\n",
       " 'ZMK': 9923.709083,\n",
       " 'ZMW': 21.119876,\n",
       " 'ZWL': 355.000334}"
      ]
     },
     "execution_count": 10,
     "metadata": {},
     "output_type": "execute_result"
    }
   ],
   "source": [
    "req.json()"
   ]
  },
  {
   "cell_type": "code",
   "execution_count": 12,
   "metadata": {
    "tags": []
   },
   "outputs": [],
   "source": [
    "rates_dict = req.json()['rates']"
   ]
  },
  {
   "cell_type": "code",
   "execution_count": 25,
   "metadata": {
    "tags": []
   },
   "outputs": [
    {
     "data": {
      "text/html": [
       "<div>\n",
       "<style scoped>\n",
       "    .dataframe tbody tr th:only-of-type {\n",
       "        vertical-align: middle;\n",
       "    }\n",
       "\n",
       "    .dataframe tbody tr th {\n",
       "        vertical-align: top;\n",
       "    }\n",
       "\n",
       "    .dataframe thead th {\n",
       "        text-align: right;\n",
       "    }\n",
       "</style>\n",
       "<table border=\"1\" class=\"dataframe\">\n",
       "  <thead>\n",
       "    <tr style=\"text-align: right;\">\n",
       "      <th></th>\n",
       "      <th>success</th>\n",
       "      <th>timestamp</th>\n",
       "      <th>base</th>\n",
       "      <th>date</th>\n",
       "      <th>rates</th>\n",
       "    </tr>\n",
       "  </thead>\n",
       "  <tbody>\n",
       "    <tr>\n",
       "      <th>AED</th>\n",
       "      <td>True</td>\n",
       "      <td>1691231823</td>\n",
       "      <td>EUR</td>\n",
       "      <td>2023-08-05</td>\n",
       "      <td>4.049480</td>\n",
       "    </tr>\n",
       "    <tr>\n",
       "      <th>AFN</th>\n",
       "      <td>True</td>\n",
       "      <td>1691231823</td>\n",
       "      <td>EUR</td>\n",
       "      <td>2023-08-05</td>\n",
       "      <td>93.236207</td>\n",
       "    </tr>\n",
       "    <tr>\n",
       "      <th>ALL</th>\n",
       "      <td>True</td>\n",
       "      <td>1691231823</td>\n",
       "      <td>EUR</td>\n",
       "      <td>2023-08-05</td>\n",
       "      <td>103.764650</td>\n",
       "    </tr>\n",
       "    <tr>\n",
       "      <th>AMD</th>\n",
       "      <td>True</td>\n",
       "      <td>1691231823</td>\n",
       "      <td>EUR</td>\n",
       "      <td>2023-08-05</td>\n",
       "      <td>423.837300</td>\n",
       "    </tr>\n",
       "    <tr>\n",
       "      <th>ANG</th>\n",
       "      <td>True</td>\n",
       "      <td>1691231823</td>\n",
       "      <td>EUR</td>\n",
       "      <td>2023-08-05</td>\n",
       "      <td>1.972208</td>\n",
       "    </tr>\n",
       "    <tr>\n",
       "      <th>...</th>\n",
       "      <td>...</td>\n",
       "      <td>...</td>\n",
       "      <td>...</td>\n",
       "      <td>...</td>\n",
       "      <td>...</td>\n",
       "    </tr>\n",
       "    <tr>\n",
       "      <th>YER</th>\n",
       "      <td>True</td>\n",
       "      <td>1691231823</td>\n",
       "      <td>EUR</td>\n",
       "      <td>2023-08-05</td>\n",
       "      <td>276.007997</td>\n",
       "    </tr>\n",
       "    <tr>\n",
       "      <th>ZAR</th>\n",
       "      <td>True</td>\n",
       "      <td>1691231823</td>\n",
       "      <td>EUR</td>\n",
       "      <td>2023-08-05</td>\n",
       "      <td>20.361787</td>\n",
       "    </tr>\n",
       "    <tr>\n",
       "      <th>ZMK</th>\n",
       "      <td>True</td>\n",
       "      <td>1691231823</td>\n",
       "      <td>EUR</td>\n",
       "      <td>2023-08-05</td>\n",
       "      <td>9923.709083</td>\n",
       "    </tr>\n",
       "    <tr>\n",
       "      <th>ZMW</th>\n",
       "      <td>True</td>\n",
       "      <td>1691231823</td>\n",
       "      <td>EUR</td>\n",
       "      <td>2023-08-05</td>\n",
       "      <td>21.119876</td>\n",
       "    </tr>\n",
       "    <tr>\n",
       "      <th>ZWL</th>\n",
       "      <td>True</td>\n",
       "      <td>1691231823</td>\n",
       "      <td>EUR</td>\n",
       "      <td>2023-08-05</td>\n",
       "      <td>355.000334</td>\n",
       "    </tr>\n",
       "  </tbody>\n",
       "</table>\n",
       "<p>170 rows × 5 columns</p>\n",
       "</div>"
      ],
      "text/plain": [
       "     success   timestamp base        date        rates\n",
       "AED     True  1691231823  EUR  2023-08-05     4.049480\n",
       "AFN     True  1691231823  EUR  2023-08-05    93.236207\n",
       "ALL     True  1691231823  EUR  2023-08-05   103.764650\n",
       "AMD     True  1691231823  EUR  2023-08-05   423.837300\n",
       "ANG     True  1691231823  EUR  2023-08-05     1.972208\n",
       "..       ...         ...  ...         ...          ...\n",
       "YER     True  1691231823  EUR  2023-08-05   276.007997\n",
       "ZAR     True  1691231823  EUR  2023-08-05    20.361787\n",
       "ZMK     True  1691231823  EUR  2023-08-05  9923.709083\n",
       "ZMW     True  1691231823  EUR  2023-08-05    21.119876\n",
       "ZWL     True  1691231823  EUR  2023-08-05   355.000334\n",
       "\n",
       "[170 rows x 5 columns]"
      ]
     },
     "execution_count": 25,
     "metadata": {},
     "output_type": "execute_result"
    }
   ],
   "source": [
    "data = pd.DataFrame(req.json())\n",
    "data"
   ]
  },
  {
   "cell_type": "markdown",
   "metadata": {},
   "source": [
    "### Save as DataFrame\n",
    "\n",
    " <b> Question 2</b>  Using the data gathered turn it into a `pandas` dataframe. The dataframe should have the Currency as the index and `Rate` as their columns. Make sure to drop unnecessary columns.\n"
   ]
  },
  {
   "cell_type": "code",
   "execution_count": 34,
   "metadata": {
    "tags": []
   },
   "outputs": [
    {
     "data": {
      "text/html": [
       "<div>\n",
       "<style scoped>\n",
       "    .dataframe tbody tr th:only-of-type {\n",
       "        vertical-align: middle;\n",
       "    }\n",
       "\n",
       "    .dataframe tbody tr th {\n",
       "        vertical-align: top;\n",
       "    }\n",
       "\n",
       "    .dataframe thead th {\n",
       "        text-align: right;\n",
       "    }\n",
       "</style>\n",
       "<table border=\"1\" class=\"dataframe\">\n",
       "  <thead>\n",
       "    <tr style=\"text-align: right;\">\n",
       "      <th></th>\n",
       "      <th>success</th>\n",
       "      <th>timestamp</th>\n",
       "      <th>base</th>\n",
       "      <th>date</th>\n",
       "      <th>rates</th>\n",
       "    </tr>\n",
       "  </thead>\n",
       "  <tbody>\n",
       "    <tr>\n",
       "      <th>AED</th>\n",
       "      <td>True</td>\n",
       "      <td>1691231823</td>\n",
       "      <td>EUR</td>\n",
       "      <td>2023-08-05</td>\n",
       "      <td>4.049480</td>\n",
       "    </tr>\n",
       "    <tr>\n",
       "      <th>AFN</th>\n",
       "      <td>True</td>\n",
       "      <td>1691231823</td>\n",
       "      <td>EUR</td>\n",
       "      <td>2023-08-05</td>\n",
       "      <td>93.236207</td>\n",
       "    </tr>\n",
       "    <tr>\n",
       "      <th>ALL</th>\n",
       "      <td>True</td>\n",
       "      <td>1691231823</td>\n",
       "      <td>EUR</td>\n",
       "      <td>2023-08-05</td>\n",
       "      <td>103.764650</td>\n",
       "    </tr>\n",
       "    <tr>\n",
       "      <th>AMD</th>\n",
       "      <td>True</td>\n",
       "      <td>1691231823</td>\n",
       "      <td>EUR</td>\n",
       "      <td>2023-08-05</td>\n",
       "      <td>423.837300</td>\n",
       "    </tr>\n",
       "    <tr>\n",
       "      <th>ANG</th>\n",
       "      <td>True</td>\n",
       "      <td>1691231823</td>\n",
       "      <td>EUR</td>\n",
       "      <td>2023-08-05</td>\n",
       "      <td>1.972208</td>\n",
       "    </tr>\n",
       "  </tbody>\n",
       "</table>\n",
       "</div>"
      ],
      "text/plain": [
       "     success   timestamp base        date       rates\n",
       "AED     True  1691231823  EUR  2023-08-05    4.049480\n",
       "AFN     True  1691231823  EUR  2023-08-05   93.236207\n",
       "ALL     True  1691231823  EUR  2023-08-05  103.764650\n",
       "AMD     True  1691231823  EUR  2023-08-05  423.837300\n",
       "ANG     True  1691231823  EUR  2023-08-05    1.972208"
      ]
     },
     "execution_count": 34,
     "metadata": {},
     "output_type": "execute_result"
    }
   ],
   "source": [
    "# Turn the data into a dataframe\n",
    "data = pd.DataFrame(req.json())\n",
    "data.head()"
   ]
  },
  {
   "cell_type": "code",
   "execution_count": 36,
   "metadata": {
    "tags": []
   },
   "outputs": [
    {
     "data": {
      "text/html": [
       "<div>\n",
       "<style scoped>\n",
       "    .dataframe tbody tr th:only-of-type {\n",
       "        vertical-align: middle;\n",
       "    }\n",
       "\n",
       "    .dataframe tbody tr th {\n",
       "        vertical-align: top;\n",
       "    }\n",
       "\n",
       "    .dataframe thead th {\n",
       "        text-align: right;\n",
       "    }\n",
       "</style>\n",
       "<table border=\"1\" class=\"dataframe\">\n",
       "  <thead>\n",
       "    <tr style=\"text-align: right;\">\n",
       "      <th></th>\n",
       "      <th>rates</th>\n",
       "    </tr>\n",
       "  </thead>\n",
       "  <tbody>\n",
       "    <tr>\n",
       "      <th>AED</th>\n",
       "      <td>4.049480</td>\n",
       "    </tr>\n",
       "    <tr>\n",
       "      <th>AFN</th>\n",
       "      <td>93.236207</td>\n",
       "    </tr>\n",
       "    <tr>\n",
       "      <th>ALL</th>\n",
       "      <td>103.764650</td>\n",
       "    </tr>\n",
       "    <tr>\n",
       "      <th>AMD</th>\n",
       "      <td>423.837300</td>\n",
       "    </tr>\n",
       "    <tr>\n",
       "      <th>ANG</th>\n",
       "      <td>1.972208</td>\n",
       "    </tr>\n",
       "  </tbody>\n",
       "</table>\n",
       "</div>"
      ],
      "text/plain": [
       "          rates\n",
       "AED    4.049480\n",
       "AFN   93.236207\n",
       "ALL  103.764650\n",
       "AMD  423.837300\n",
       "ANG    1.972208"
      ]
     },
     "execution_count": 36,
     "metadata": {},
     "output_type": "execute_result"
    }
   ],
   "source": [
    "# Drop unnescessary columns\n",
    "data = data.drop(columns=['success', 'timestamp', 'base', 'date'])\n",
    "data.head()"
   ]
  },
  {
   "cell_type": "markdown",
   "metadata": {},
   "source": [
    "### Load the Data\n",
    "\n",
    "Using the dataframe save it as a CSV names `exchange_rates_1.csv`.\n"
   ]
  },
  {
   "cell_type": "code",
   "execution_count": 39,
   "metadata": {
    "tags": []
   },
   "outputs": [],
   "source": [
    "# Save the Dataframe\n",
    "with open('exchange_rates_1.csv', 'w') as f:\n",
    "    f.write(data.to_csv())"
   ]
  },
  {
   "cell_type": "markdown",
   "metadata": {},
   "source": [
    "Your CSV should be in this format with more currencies\n",
    "\n",
    "| | Rates |\n",
    "| ------- | ------- |\n",
    "|  AED| 4.398618    |\n",
    "|  AFN| 92.917693   |  \n",
    "|  ALL| 123.099093  |\n",
    "|  AMD| 621.935674  |\n",
    "|  ANG| 2.149648    | \n"
   ]
  },
  {
   "cell_type": "markdown",
   "metadata": {},
   "source": [
    "## Authors\n"
   ]
  },
  {
   "cell_type": "markdown",
   "metadata": {},
   "source": [
    "Ramesh Sannareddy, Joseph Santarcangelo and Azim Hirjani\n"
   ]
  },
  {
   "cell_type": "markdown",
   "metadata": {},
   "source": [
    "### Other Contributors\n"
   ]
  },
  {
   "cell_type": "markdown",
   "metadata": {},
   "source": [
    "Rav Ahuja\n"
   ]
  },
  {
   "cell_type": "markdown",
   "metadata": {},
   "source": [
    "## Change Log\n"
   ]
  },
  {
   "cell_type": "markdown",
   "metadata": {},
   "source": [
    "| Date (YYYY-MM-DD) | Version | Changed By        | Change Description                 |\n",
    "| ----------------- | ------- | ----------------- | ---------------------------------- |\n",
    "| 2022-05-06        | 0.3     | Malika            | Updated instructions to get the API and the url|\n",
    "| 2021-04-15        | 0.2     | Malika            | Updated the lab from USD to EUR    |\n",
    "| 2020-11-25        | 0.1     | Ramesh Sannareddy | Created initial version of the lab |\n"
   ]
  },
  {
   "cell_type": "markdown",
   "metadata": {},
   "source": [
    " Copyright © 2020 IBM Corporation. This notebook and its source code are released under the terms of the [MIT License](https://cognitiveclass.ai/mit-license?utm_medium=Exinfluencer&utm_source=Exinfluencer&utm_content=000026UJ&utm_term=10006555&utm_id=NA-SkillsNetwork-Channel-SkillsNetworkCoursesIBMDeveloperSkillsNetworkPY0221ENSkillsNetwork899-2023-01-01&cm_mmc=Email_Newsletter-_-Developer_Ed%2BTech-_-WW_WW-_-SkillsNetwork-Courses-IBM-DA0321EN-SkillsNetwork-21426264&cm_mmca1=000026UJ&cm_mmca2=10006555&cm_mmca3=M12345678&cvosrc=email.Newsletter.M12345678&cvo_campaign=000026UJ).\n"
   ]
  }
 ],
 "metadata": {
  "kernelspec": {
   "display_name": "Python",
   "language": "python",
   "name": "conda-env-python-py"
  },
  "language_info": {
   "codemirror_mode": {
    "name": "ipython",
    "version": 3
   },
   "file_extension": ".py",
   "mimetype": "text/x-python",
   "name": "python",
   "nbconvert_exporter": "python",
   "pygments_lexer": "ipython3",
   "version": "3.7.12"
  }
 },
 "nbformat": 4,
 "nbformat_minor": 4
}
